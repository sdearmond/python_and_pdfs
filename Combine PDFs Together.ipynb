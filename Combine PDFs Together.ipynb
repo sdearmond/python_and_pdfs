{
 "cells": [
  {
   "cell_type": "markdown",
   "metadata": {},
   "source": [
    "# Append lots of little PDFs into one big PDF \n",
    "## (and if the little pdf has a odd-number of pages, even it up with a blank page)"
   ]
  },
  {
   "cell_type": "code",
   "execution_count": null,
   "metadata": {
    "collapsed": true
   },
   "outputs": [],
   "source": [
    "from PyPDF2 import PdfFileReader, PdfFileWriter\n",
    "import os\n",
    "\n",
    "output_pdf_path = r'my_output_file_path.pdf'\n",
    "\n",
    "#Let's get a list of all the pdfs we'll be working with\n",
    "pdf_dir = r'path/to/folder/where/your/pdfs/live'\n",
    "pdf_list = []\n",
    "for dirpath, dirnames, files in os.walk(pdf_dir):\n",
    "    for file in files:\n",
    "        pdf_list.append(os.path.join(dirpath, file))\n",
    "\n",
    "#Now lets start a writer to hold our new really big pdf\n",
    "writer = PdfFileWriter()\n",
    "for little_pdf in pdf_list:\n",
    "    reader =  PdfFileReader(little_pdf, 'rb')\n",
    "    writer.appendPagesFromReader(reader)\n",
    "    if reader.getNumPages()%2 != 0: #This checks for files with an odd number of pages\n",
    "        writer.addBlankPage() #And adds a blank page if neccessary\n",
    "        print(\"'\" + little_pdf + \"' is odd\")\n",
    "    else:\n",
    "        print(\"'\" + little_pdf + \"' is even\")\n",
    "\n",
    "with open(output_pdf_path, 'wb') as output_pdf:\n",
    "    writer.write(output_pdf)"
   ]
  },
  {
   "cell_type": "code",
   "execution_count": null,
   "metadata": {
    "collapsed": true
   },
   "outputs": [],
   "source": []
  }
 ],
 "metadata": {
  "kernelspec": {
   "display_name": "Python 2",
   "language": "python",
   "name": "python2"
  },
  "language_info": {
   "codemirror_mode": {
    "name": "ipython",
    "version": 2
   },
   "file_extension": ".py",
   "mimetype": "text/x-python",
   "name": "python",
   "nbconvert_exporter": "python",
   "pygments_lexer": "ipython2",
   "version": "2.7.13"
  }
 },
 "nbformat": 4,
 "nbformat_minor": 2
}
