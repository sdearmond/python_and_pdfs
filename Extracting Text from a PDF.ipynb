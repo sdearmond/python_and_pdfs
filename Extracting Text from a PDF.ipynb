{
 "cells": [
  {
   "cell_type": "markdown",
   "metadata": {},
   "source": [
    "# Extracting Text from a PDF"
   ]
  },
  {
   "cell_type": "markdown",
   "metadata": {},
   "source": [
    "### PDFMiner is a good library for extracting text. It works like this..."
   ]
  },
  {
   "cell_type": "code",
   "execution_count": 27,
   "metadata": {
    "collapsed": true
   },
   "outputs": [],
   "source": [
    "from pdfminer.pdfinterp import PDFResourceManager, PDFPageInterpreter\n",
    "from pdfminer.converter import TextConverter\n",
    "from pdfminer.layout import LAParams\n",
    "from pdfminer.pdfpage import PDFPage\n",
    "from cStringIO import StringIO\n",
    "\n",
    "\n",
    "def convert_pdf_to_txt(path):\n",
    "    rsrcmgr = PDFResourceManager()\n",
    "    retstr = StringIO()\n",
    "    codec = 'utf-8'\n",
    "    laparams = LAParams()\n",
    "    device = TextConverter(rsrcmgr, retstr, codec=codec, laparams=laparams)\n",
    "    fp = file(path, 'rb')\n",
    "    pagenos=set()\n",
    "    interpreter = PDFPageInterpreter(rsrcmgr, device)\n",
    "\n",
    "    for page in PDFPage.get_pages(fp, pagenos, check_extractable=True):\n",
    "        interpreter.process_page(page)\n",
    "\n",
    "    text = retstr.getvalue()\n",
    "\n",
    "    fp.close()\n",
    "    device.close()\n",
    "    retstr.close()\n",
    "    print(text)\n"
   ]
  },
  {
   "cell_type": "code",
   "execution_count": null,
   "metadata": {
    "collapsed": true
   },
   "outputs": [],
   "source": [
    "convert_pdf_to_txt(r\"/Users/shannon/Desktop/Crawl.pdf\")"
   ]
  },
  {
   "cell_type": "markdown",
   "metadata": {},
   "source": [
    "### Let's see what happens if we try it with PyPDF2..."
   ]
  },
  {
   "cell_type": "code",
   "execution_count": 29,
   "metadata": {
    "collapsed": true
   },
   "outputs": [],
   "source": [
    "from PyPDF2 import PdfFileReader\n",
    "def convert_pdf_to_txt_pypdf2(path):\n",
    "    fp = PdfFileReader(open(path, 'rb'))\n",
    "    for i in range(fp.getNumPages()):\n",
    "        page = fp.getPage(i)\n",
    "        page_content = page.extractText()\n",
    "        print(page_content.encode('utf-8'))"
   ]
  },
  {
   "cell_type": "code",
   "execution_count": 30,
   "metadata": {},
   "outputs": [
    {
     "name": "stdout",
     "output_type": "stream",
     "text": [
      "A long time ago in a galaxy far, far awayÉ\n",
      "Star \n",
      "Wars\n",
      "Episode V\n",
      "THE EMPIRE STRIKES BACK\n",
      "It is a dark time for the Rebellion. \n",
      "Although the Death Star has been \n",
      "destroyed, Imperial troops have driven \n",
      "the Rebel forces from their hidden \n",
      "base and pursued them across \n",
      "the galaxy.\n",
      "Evading the dreaded Imperial \n",
      "Starßeet, a group of freedom Þghters \n",
      "led by Luke Skywalker has established \n",
      "a new secret base on the remote ice \n",
      "world of \n",
      "Hoth.The evil lord Darth Vader, obsessed \n",
      "with Þnding young Skywalker, has \n",
      "dispatched thousands of remote \n",
      "probes into \n",
      "the far reaches of space....\n",
      "\n"
     ]
    }
   ],
   "source": [
    "convert_pdf_to_txt_pypdf2(r\"/Users/shannon/Desktop/Crawl.pdf\")"
   ]
  },
  {
   "cell_type": "markdown",
   "metadata": {},
   "source": [
    "### So why would we use PDFMiner at all?\n",
    "Well, it's a text box thing. PyPDF2 can get inside a text box in a PDF (usually) but if you want to keep the contents of individual text boxes separate or get coordinates of those boxes, PDFMiner is the better option."
   ]
  },
  {
   "cell_type": "code",
   "execution_count": 31,
   "metadata": {
    "collapsed": true
   },
   "outputs": [],
   "source": [
    "from pdfminer.pdfinterp import PDFResourceManager, PDFPageInterpreter\n",
    "from pdfminer.layout import LAParams\n",
    "from pdfminer.pdfpage import PDFPage\n",
    "from pdfminer.pdfdocument import PDFDocument\n",
    "from pdfminer.pdfparser import PDFParser\n",
    "from pdfminer.converter import PDFPageAggregator\n",
    "from pdfminer.layout import LTTextBox, LTTextLine, LTFigure\n",
    "\n",
    "# This is a function to dig through the contents and attributes of a text box in the pdf recursively\n",
    "def parse_layout(layout, pagenum, text_bit):\n",
    "    \"\"\"Function to recursively parse the layout tree.\"\"\"\n",
    "    for lt_obj in layout:\n",
    "        if isinstance(lt_obj, LTTextBox) or isinstance(lt_obj, LTTextLine):\n",
    "            if \"LTTextBox\" in lt_obj.__class__.__name__:\n",
    "                my_text = lt_obj.get_text()\n",
    "                if text_bit in my_text:\n",
    "                    print(my_text)\n",
    "                    print(lt_obj.bbox)\n",
    "        elif isinstance(lt_obj, LTFigure):\n",
    "            parse_layout(lt_obj, pagenum, text_bit)  # in case its a text box inside a text box inside a...\n",
    "            \n",
    "# This is a function to locate text boxes in the pdf\n",
    "def find_a_text_box(path, search_string):\n",
    "    rsrcmgr = PDFResourceManager()\n",
    "    codec = 'utf-8'\n",
    "    laparams = LAParams()\n",
    "    device = PDFPageAggregator(rsrcmgr, laparams=laparams)\n",
    "    interpreter = PDFPageInterpreter(rsrcmgr, device)\n",
    "    fp = open(path, 'rb')\n",
    "    parser = PDFParser(fp)\n",
    "    \n",
    "    for pagenumber, page in enumerate(PDFPage.create_pages(PDFDocument(parser))):\n",
    "        interpreter.process_page(page)\n",
    "        layout = device.get_result()\n",
    "        parse_layout(layout, pagenumber, search_string)"
   ]
  },
  {
   "cell_type": "code",
   "execution_count": null,
   "metadata": {
    "collapsed": true
   },
   "outputs": [],
   "source": [
    "find_a_text_box(r\"/Users/shannon/Desktop/Crawl.pdf\", \"far reaches of space\")"
   ]
  }
 ],
 "metadata": {
  "kernelspec": {
   "display_name": "Python 2",
   "language": "python",
   "name": "python2"
  },
  "language_info": {
   "codemirror_mode": {
    "name": "ipython",
    "version": 2
   },
   "file_extension": ".py",
   "mimetype": "text/x-python",
   "name": "python",
   "nbconvert_exporter": "python",
   "pygments_lexer": "ipython2",
   "version": "2.7.13"
  }
 },
 "nbformat": 4,
 "nbformat_minor": 2
}
