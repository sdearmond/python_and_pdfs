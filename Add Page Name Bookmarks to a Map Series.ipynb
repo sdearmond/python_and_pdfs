{
 "cells": [
  {
   "cell_type": "markdown",
   "metadata": {},
   "source": [
    "# This example uses arcpy, PyPDF2, & PDFMiner to take a map series generated in ArcGIS and export the maps to pdf, then make bookmarks of the matchline text."
   ]
  },
  {
   "cell_type": "markdown",
   "metadata": {
    "collapsed": true
   },
   "source": [
    "### First, we'll import PDFMiner to make a list of text boxes..."
   ]
  },
  {
   "cell_type": "code",
   "execution_count": null,
   "metadata": {
    "collapsed": true
   },
   "outputs": [],
   "source": [
    "# What follows is a ridiculous number of imports to run only 20 lines of code, but so be it.\n",
    "from pdfminer.pdfdocument import PDFDocument\n",
    "from pdfminer.pdfpage import PDFPage\n",
    "from pdfminer.pdfparser import PDFParser\n",
    "from pdfminer.pdfinterp import PDFResourceManager, PDFPageInterpreter\n",
    "from pdfminer.converter import PDFPageAggregator\n",
    "from pdfminer.layout import LAParams, LTTextBox, LTTextLine, LTFigure"
   ]
  },
  {
   "cell_type": "code",
   "execution_count": null,
   "metadata": {
    "collapsed": true
   },
   "outputs": [],
   "source": [
    "# Opens a PDF file\n",
    "my_pdf_path = '/Users/shannon/Desktop/DeltaEcology.pdf'\n",
    "my_pdf = open(my_pdf_path, 'rb')\n",
    "parser = PDFParser(my_pdf)\n",
    "doc = PDFDocument(parser)\n",
    "my_text_boxes = []"
   ]
  },
  {
   "cell_type": "code",
   "execution_count": null,
   "metadata": {
    "collapsed": true
   },
   "outputs": [],
   "source": [
    "# This is a function to dig through a text box in the pdf recursively\n",
    "def parse_layout(layout, pagenum, text_bit):\n",
    "    \"\"\"Function to recursively parse the layout tree.\"\"\"\n",
    "    for lt_obj in layout:\n",
    "        if isinstance(lt_obj, LTTextBox) or isinstance(lt_obj, LTTextLine):\n",
    "            if \"LTTextBox\" in lt_obj.__class__.__name__:\n",
    "                my_text = lt_obj.get_text()\n",
    "                if text_bit in my_text:\n",
    "                    out_object = [pagenum, lt_obj.bbox, my_text]\n",
    "                    my_text_boxes.append(out_object)\n",
    "        elif isinstance(lt_obj, LTFigure):\n",
    "            parse_layout(lt_obj, pagenum, text_bit)  # in case its a text box inside a text box inside a..."
   ]
  },
  {
   "cell_type": "code",
   "execution_count": 70,
   "metadata": {},
   "outputs": [
    {
     "name": "stdout",
     "output_type": "stream",
     "text": [
      "[0, (439.44471, 191.36202637000002, 484.3835478495, 231.10285552000002), u'Page 3\\n']\n",
      "[0, (169.44182, 191.36202637000002, 214.38065784949998, 231.10285552000002), u'Page 2\\n']\n",
      "[1, (397.44426, 737.35138637, 442.3830978495, 777.09221552), u'Page 1\\n']\n",
      "[1, (530.88569, 464.23670637, 575.8245278494999, 503.97753552), u'Page 3\\n']\n",
      "[1, (337.68362, 191.84201637, 382.62245784950005, 231.58284552), u'Page 4\\n']\n",
      "[2, (127.44137, 737.35138637, 172.38020784949998, 777.09221552), u'Page 1\\n']\n",
      "[2, (36.00039, 464.23670637, 80.93922784949999, 503.97753552), u'Page 2\\n']\n",
      "[2, (67.68073, 33.557181889999995, 234.05468704399996, 231.58284552), u'Page 4\\nopen water\\nfluvial open water\\ntidal freshwater emergent wetland\\nnon-tidal freshwater emergent wetland\\nwillow thicket\\nwillow riparian scrub/shrub\\nvalley foothill riparian\\nwet meadow/seasonal wetland\\nvernal pool complex\\nalkali seasonal wetland complex\\nstabilized interior dune vegetation\\ngrassland\\noak woodland/savanna\\n']\n",
      "[2, (337.68362, 191.84201637, 382.62245784950005, 231.58284552), u'Page 5\\n']\n",
      "[3, (229.20246, 736.8713963700001, 274.1412978495, 776.61222552), u'Page 2\\n']\n",
      "[3, (499.20535, 736.8713963700001, 544.1441878494999, 776.61222552), u'Page 3\\n']\n",
      "[3, (530.88569, 464.23670637, 575.8245278494999, 503.97753552), u'Page 5\\n']\n",
      "[4, (229.20246, 736.8713963700001, 274.1412978495, 776.61222552), u'Page 3\\n']\n",
      "[4, (36.00039, 464.23670637, 80.93922784949999, 503.97753552), u'Page 4\\n']\n"
     ]
    }
   ],
   "source": [
    "# And now, for each page in the PDF, look for text boxes that meet our criteria,\n",
    "# and get back a list of the bounding coords\n",
    "rsrcmgr = PDFResourceManager()\n",
    "laparams = LAParams()\n",
    "device = PDFPageAggregator(rsrcmgr, laparams=laparams)\n",
    "interpreter = PDFPageInterpreter(rsrcmgr, device)\n",
    "my_text_boxes = []\n",
    "for pagenumber, page in enumerate(PDFPage.create_pages(doc)):\n",
    "    interpreter.process_page(page)\n",
    "    layout = device.get_result()\n",
    "    parse_layout(layout, pagenumber, \"Page\")\n",
    "for my_text_box in my_text_boxes:\n",
    "    print my_text_box"
   ]
  },
  {
   "cell_type": "markdown",
   "metadata": {},
   "source": [
    "### Okay we have what need from PDFMiner. Let's move on to PyPDF.\n",
    "Now we're going to make a link every place we found the right sort of text box, and then finally output a new file."
   ]
  },
  {
   "cell_type": "code",
   "execution_count": 76,
   "metadata": {},
   "outputs": [
    {
     "name": "stdout",
     "output_type": "stream",
     "text": [
      "[[u'Page 1', 1], [u'Page 2', 2], [u'Page 3', 3], [u'Page 4', 4], [u'Page 5', 5]]\n",
      "[0, 2, RectangleObject([439.44471, 191.36203, 484.38355, 231.10286])]\n",
      "[0, 1, RectangleObject([169.44182, 191.36203, 214.38066, 231.10286])]\n",
      "[1, 0, RectangleObject([397.44426, 737.35139, 442.3831, 777.09222])]\n",
      "[1, 2, RectangleObject([530.88569, 464.23671, 575.82453, 503.97754])]\n",
      "[1, 3, RectangleObject([337.68362, 191.84202, 382.62246, 231.58285])]\n",
      "[2, 0, RectangleObject([127.44137, 737.35139, 172.38021, 777.09222])]\n",
      "[2, 1, RectangleObject([36.00039, 464.23671, 80.93923, 503.97754])]\n",
      "[2, 3, RectangleObject([67.68073, 33.55718, 234.05469, 231.58285])]\n",
      "[2, 4, RectangleObject([337.68362, 191.84202, 382.62246, 231.58285])]\n",
      "[3, 1, RectangleObject([229.20246, 736.8714, 274.1413, 776.61223])]\n",
      "[3, 2, RectangleObject([499.20535, 736.8714, 544.14419, 776.61223])]\n",
      "[3, 4, RectangleObject([530.88569, 464.23671, 575.82453, 503.97754])]\n",
      "[4, 2, RectangleObject([229.20246, 736.8714, 274.1413, 776.61223])]\n",
      "[4, 3, RectangleObject([36.00039, 464.23671, 80.93923, 503.97754])]\n"
     ]
    }
   ],
   "source": [
    "from PyPDF2 import PdfFileWriter, PdfFileReader\n",
    "from PyPDF2.pdf import RectangleObject\n",
    "\n",
    "# Open up the pdf reader\n",
    "my_pdf_reader = PdfFileReader(open(my_pdf_path,'rb'))\n",
    "\n",
    "# Designate the output file\n",
    "writer = PdfFileWriter()\n",
    "PdfFileWriter.appendPagesFromReader(writer, my_pdf_reader)\n",
    "\n",
    "# We'll use this function to map bookmarks to their destination page\n",
    "def _setup_page_id_to_num(pdf, pages=None, _result=None, _num_pages=None):\n",
    "    if _result is None:\n",
    "        _result = {}\n",
    "    if pages is None:\n",
    "        _num_pages = []\n",
    "        pages = pdf.trailer[\"/Root\"].getObject()[\"/Pages\"].getObject()\n",
    "    t = pages[\"/Type\"]\n",
    "    if t == \"/Pages\":\n",
    "        for page in pages[\"/Kids\"]:\n",
    "            _result[page.idnum] = len(_num_pages)\n",
    "            _setup_page_id_to_num(pdf, page.getObject(), _result, _num_pages)\n",
    "    elif t == \"/Page\":\n",
    "        _num_pages.append(1)\n",
    "    return _result\n",
    "\n",
    "# This bit makes a dictionary of bookmark names to page numbers\n",
    "bookmark_list = []\n",
    "dest_map = _setup_page_id_to_num(my_pdf_reader)\n",
    "outline = my_pdf_reader.getOutlines()\n",
    "for bookmark in outline:\n",
    "    pg_num = dest_map[bookmark.page.idnum] + 1\n",
    "    bookmark_list.append([bookmark.title, pg_num])\n",
    "\n",
    "#Now we're going to go through every text box and if it has a matching bookmark, we'll make it a link\n",
    "for my_text_box in my_text_boxes:\n",
    "    link_dest = 0\n",
    "    for bookmark in bookmark_list:\n",
    "        if bookmark[0] in my_text_box[2]:\n",
    "            link_dest = bookmark[1]\n",
    "    if link_dest > 0:\n",
    "        rect = RectangleObject(my_text_box[1]) \n",
    "        print[my_text_box[0], link_dest-1, rect]\n",
    "        writer.addLink(my_text_box[0], link_dest-1, rect)\n",
    "\n",
    "#And finally, write the results out to a new file  \n",
    "with open(r'/Users/shannon/Desktop/DeltaEcology_withlinks.pdf', 'wb') as new_pdf:\n",
    "    writer.write(new_pdf)\n"
   ]
  }
 ],
 "metadata": {
  "kernelspec": {
   "display_name": "Python 2",
   "language": "python",
   "name": "python2"
  },
  "language_info": {
   "codemirror_mode": {
    "name": "ipython",
    "version": 2
   },
   "file_extension": ".py",
   "mimetype": "text/x-python",
   "name": "python",
   "nbconvert_exporter": "python",
   "pygments_lexer": "ipython2",
   "version": "2.7.13"
  }
 },
 "nbformat": 4,
 "nbformat_minor": 2
}
