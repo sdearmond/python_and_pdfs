{
 "cells": [
  {
   "cell_type": "markdown",
   "metadata": {},
   "source": [
    "# This example uses arcpy, PyPDF2, & PDFMiner to take a map series generated in ArcGIS and export the maps to pdf, then make links of the matchline text to jump you to the appropriate pages"
   ]
  },
  {
   "cell_type": "markdown",
   "metadata": {},
   "source": [
    "### We'll start in arcpy\n",
    "If you are working in ArcMap (sorry, not ArcGIS Pro) and you have data-driven pages setup in your mxd, this will produce a multi-page pdf export for you and also harvest the page names to use for bookmarks."
   ]
  },
  {
   "cell_type": "code",
   "execution_count": null,
   "metadata": {
    "collapsed": true
   },
   "outputs": [],
   "source": [
    "import arcpy, os\n",
    "\n",
    "#Creates two empty pdf documents\n",
    "print(\"Creating pdf document\")\n",
    "out_dir = r'/Users/shannon/Desktop'\n",
    "output_pdf_path_fromArcMap = os.path.join(out_dir, 'DeltaEcology.pdf')\n",
    "output_pdf_fromArcMap = arcpy.mapping.PDFDocumentCreate(output_pdf_path_fromArcMap)\n",
    "\n",
    "#Grabs some variables from the mxd\n",
    "mxd = arcpy.mapping.MapDocument(r'extras/MySampleMXD.mxd')\n",
    "ddp = mxd.dataDrivenPages #Note that if you don't have data driven pages enabled in your map, this will throw an error\n",
    "\n",
    "#For each page in the data driven page set...\n",
    "temp_pdf_path = os.path.join(out_dir,'temp.pdf')\n",
    "bookmark_list = []\n",
    "for page_num in range(1, mxd.dataDrivenPages.pageCount + 1):\n",
    "    ddp.currentPageID = page_num #Go to page\n",
    "    page_name = ddp.pageRow.getValue(ddp.pageNameField.name) #Get the name of the page\n",
    "    print (\" Exporting \" + page_name)\n",
    "    arcpy.mapping.ExportToPDF(mxd, temp_pdf_path) #Export the pdf to a temporary location\n",
    "    output_pdf_fromArcMap.appendPages(temp_pdf_path) #Append the temporary pdf to the main pdf\n",
    "    os.remove(temp_pdf_path)\n",
    "    bookmark_list.append(page_name) #This is a list of the bookmarks we need to make\n",
    "output_pdf_fromArcMap.saveAndClose()\n",
    "print(bookmark_list)"
   ]
  },
  {
   "cell_type": "code",
   "execution_count": 77,
   "metadata": {
    "collapsed": true
   },
   "outputs": [],
   "source": [
    "#Demo purposes only...\n",
    "import os\n",
    "out_dir = r'/Users/shannon/Desktop'\n",
    "output_pdf_path_fromArcMap = os.path.join(out_dir, 'DeltaEcology.pdf')\n",
    "bookmark_list = ['Page 1', 'Page 2', 'Page 3', 'Page 4', 'Page 5']"
   ]
  },
  {
   "cell_type": "markdown",
   "metadata": {
    "collapsed": true
   },
   "source": [
    "### The next step is to use PDFMiner to make a list of text boxes in the PDF"
   ]
  },
  {
   "cell_type": "code",
   "execution_count": 78,
   "metadata": {},
   "outputs": [
    {
     "name": "stdout",
     "output_type": "stream",
     "text": [
      "[0, (273.2386702, 194.4906462, 305.10977009, 222.58327519999997), 'Page 2']\n",
      "[0, (313.5634, 194.4906462, 345.43449989, 222.58327519999997), 'Page 3']\n",
      "[0, (487.2052, 147.5574231, 512.7316823, 170.1687376), 'Page 1']\n",
      "[0, (468.96520970000006, 108.67863399999999, 494.49169200000006, 131.28994849999998), 'Page 2']\n",
      "[0, (506.1659194, 108.67863399999999, 531.6924017, 131.28994849999998), 'Page 3']\n",
      "[0, (475.6814545000001, 70.03744189999999, 501.2079368000001, 92.6487564), 'Page 4']\n",
      "[0, (512.8821642, 70.03744189999999, 538.4086465, 92.6487564), 'Page 5']\n",
      "[1, (365.7639, 742.3999461999999, 397.63499989, 770.4925752), 'Page 1']\n",
      "[1, (562.8850169, 460.13567178, 590.9785023999999, 492.0058), 'Page 3']\n",
      "[1, (354.0038, 194.2506462, 385.87489989000005, 222.3432752), 'Page 4']\n",
      "[1, (487.2052, 147.5574231, 512.7316823, 170.1687376), 'Page 1']\n",
      "[1, (468.96520970000006, 108.67863399999999, 494.49169200000006, 131.28994849999998), 'Page 2']\n",
      "[1, (506.1659194, 108.67863399999999, 531.6924017, 131.28994849999998), 'Page 3']\n",
      "[1, (475.6814545000001, 70.03744189999999, 501.2079368000001, 92.6487564), 'Page 4']\n",
      "[1, (512.8821642, 70.03744189999999, 538.4086465, 92.6487564), 'Page 5']\n",
      "[2, (253.6827, 741.1999462000001, 285.55379989000005, 769.2925752000001), 'Page 1']\n",
      "[2, (487.2052, 147.5574231, 512.7316823, 170.1687376), 'Page 1']\n",
      "[2, (468.96520970000006, 108.67863399999999, 494.49169200000006, 131.28994849999998), 'Page 2']\n",
      "[2, (506.1659194, 108.67863399999999, 531.6924017, 131.28994849999998), 'Page 3']\n",
      "[2, (475.6814545000001, 70.03744189999999, 501.2079368000001, 92.6487564), 'Page 4']\n",
      "[2, (512.8821642, 70.03744189999999, 538.4086465, 92.6487564), 'Page 5']\n",
      "[2, (99.3617883, 194.2506462, 131.23288819, 222.3432752), 'Page 4']\n",
      "[2, (151.6816, 194.2506462, 183.55269989, 222.3432752), 'Page 5']\n",
      "[3, (429.1246, 740.7199462000001, 460.99569988999997, 768.8125752000001), 'Page 2']\n",
      "[3, (472.0851, 740.9599462000001, 503.95619989, 769.0525752000001), 'Page 3']\n",
      "[3, (562.6450169000001, 314.69857177999995, 590.7385024, 346.5687), 'Page 5']\n",
      "[3, (487.2052, 147.5574231, 512.7316823, 170.1687376), 'Page 1']\n",
      "[3, (468.96520970000006, 108.67863399999999, 494.49169200000006, 131.28994849999998), 'Page 2']\n",
      "[3, (506.1659194, 108.67863399999999, 531.6924017, 131.28994849999998), 'Page 3']\n",
      "[3, (475.6814545000001, 70.03744189999999, 501.2079368000001, 92.6487564), 'Page 4']\n",
      "[3, (512.8821642, 70.03744189999999, 538.4086465, 92.6487564), 'Page 5']\n",
      "[4, (347.2837, 740.7199462000001, 379.15479989000005, 768.8125752000001), 'Page 3']\n",
      "[4, (487.2052, 147.5574231, 512.7316823, 170.1687376), 'Page 1']\n",
      "[4, (468.96520970000006, 108.67863399999999, 494.49169200000006, 131.28994849999998), 'Page 2']\n",
      "[4, (506.1659194, 108.67863399999999, 531.6924017, 131.28994849999998), 'Page 3']\n",
      "[4, (475.6814545000001, 70.03744189999999, 501.2079368000001, 92.6487564), 'Page 4']\n",
      "[4, (512.8821642, 70.03744189999999, 538.4086465, 92.6487564), 'Page 5']\n"
     ]
    }
   ],
   "source": [
    "# What follows is a ridiculous number of imports to run only 20 lines of code, but so be it.\n",
    "from pdfminer.pdfdocument import PDFDocument\n",
    "from pdfminer.pdfpage import PDFPage\n",
    "from pdfminer.pdfparser import PDFParser\n",
    "from pdfminer.pdfinterp import PDFResourceManager, PDFPageInterpreter\n",
    "from pdfminer.converter import PDFPageAggregator\n",
    "from pdfminer.layout import LAParams, LTTextBox, LTTextLine, LTFigure\n",
    "\n",
    "# Opens the PDF file in PDFMiner\n",
    "pdf_for_pdfminer = open(output_pdf_path_fromArcMap, 'rb')\n",
    "parser = PDFParser(pdf_for_pdfminer)\n",
    "doc = PDFDocument(parser)\n",
    "my_text_boxes = []\n",
    "\n",
    "def clean_my_text(str):\n",
    "    str = str.replace(\" \",\"\")\n",
    "    str = str.replace('\\n',\"\")\n",
    "    return str\n",
    "\n",
    "# This is a function to dig through a text box in the pdf recursively\n",
    "def parse_layout(layout, pagenum):\n",
    "    \"\"\"Function to recursively parse the layout tree.\"\"\"\n",
    "    for lt_obj in layout:\n",
    "        if isinstance(lt_obj, LTTextBox) or isinstance(lt_obj, LTTextLine):\n",
    "            if \"LTTextBox\" in lt_obj.__class__.__name__:\n",
    "                my_text = lt_obj.get_text()\n",
    "                for bookmark in bookmark_list:\n",
    "                    if bookmark in my_text or clean_my_text(bookmark) in clean_my_text(my_text):\n",
    "                        out_object = [pagenum, lt_obj.bbox, bookmark]\n",
    "                        my_text_boxes.append(out_object)\n",
    "        elif isinstance(lt_obj, LTFigure):\n",
    "            parse_layout(lt_obj, pagenum)  # in case its a text box inside a text box inside a...\n",
    "            \n",
    "# And now, for each page in the PDF, look for text boxes that meet our criteria,\n",
    "# and get back a list of the bounding coords\n",
    "rsrcmgr = PDFResourceManager()\n",
    "laparams = LAParams()\n",
    "device = PDFPageAggregator(rsrcmgr, laparams=laparams)\n",
    "interpreter = PDFPageInterpreter(rsrcmgr, device)\n",
    "my_text_boxes = []\n",
    "bad_objects = []\n",
    "for pagenumber, page in enumerate(PDFPage.create_pages(doc)):\n",
    "    interpreter.process_page(page)\n",
    "    layout = device.get_result()\n",
    "    parse_layout(layout, pagenumber)\n",
    "for my_text_box in my_text_boxes:\n",
    "    print my_text_box\n",
    "    \n",
    "pdf_for_pdfminer.close()"
   ]
  },
  {
   "cell_type": "markdown",
   "metadata": {},
   "source": [
    "### Okay we have what need from PDFMiner. Let's move on to PyPDF.\n",
    "Now we're going to make a bookmark for every page, and then link every place we found the right sort of text box to the bookmark."
   ]
  },
  {
   "cell_type": "code",
   "execution_count": 79,
   "metadata": {
    "collapsed": true
   },
   "outputs": [],
   "source": [
    "from PyPDF2 import PdfFileWriter, PdfFileReader\n",
    "from PyPDF2.pdf import RectangleObject\n",
    "\n",
    "# Open up the pdf reader\n",
    "pdf_for_pypdf_reader = PdfFileReader(open(output_pdf_path_fromArcMap,'rb'))\n",
    "\n",
    "# Designate the output file\n",
    "writer = PdfFileWriter()\n",
    "\n",
    "# Now let's go through the final pdf and set up the bookmarks\n",
    "for i in range(0, len(bookmark_list)):\n",
    "    writer.addPage(pdf_for_pypdf_reader.getPage(i))\n",
    "    writer.addBookmark(bookmark_list[i], i)\n",
    "\n",
    "#Now we're going to go through every text box and if it has a matching bookmark, we'll make it a link\n",
    "for my_text_box in my_text_boxes:\n",
    "    page_num = my_text_box[0]\n",
    "    rect = RectangleObject(my_text_box[1]) \n",
    "    link_dest = bookmark_list.index(my_text_box[2])\n",
    "    writer.addLink(page_num, link_dest, rect)\n",
    "\n",
    "#And finally, write the results out to a new file  \n",
    "with open(os.path.join(out_dir, 'DeltaEcology_withBookmarksAndLinks.pdf'), 'wb') as output_pdf_fromPyPDF:\n",
    "    writer.write(output_pdf_fromPyPDF)"
   ]
  },
  {
   "cell_type": "code",
   "execution_count": null,
   "metadata": {
    "collapsed": true
   },
   "outputs": [],
   "source": []
  }
 ],
 "metadata": {
  "kernelspec": {
   "display_name": "Python 2",
   "language": "python",
   "name": "python2"
  },
  "language_info": {
   "codemirror_mode": {
    "name": "ipython",
    "version": 2
   },
   "file_extension": ".py",
   "mimetype": "text/x-python",
   "name": "python",
   "nbconvert_exporter": "python",
   "pygments_lexer": "ipython2",
   "version": "2.7.13"
  }
 },
 "nbformat": 4,
 "nbformat_minor": 2
}
