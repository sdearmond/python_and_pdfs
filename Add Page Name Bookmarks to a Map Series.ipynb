{
 "cells": [
  {
   "cell_type": "markdown",
   "metadata": {},
   "source": [
    "# This example uses arcpy, PyPDF2, & PDFMiner to take a map series generated in ArcGIS and export the maps to pdf, then make links of the matchline text to jump you to the appropriate pages"
   ]
  },
  {
   "cell_type": "markdown",
   "metadata": {},
   "source": [
    "### We'll start in arcpy\n",
    "If you are working in ArcMap (sorry, not ArcGIS Pro) and you have data-driven pages setup in your mxd, this will produce a multi-page pdf export for you and also harvest the page names to use for bookmarks."
   ]
  },
  {
   "cell_type": "code",
   "execution_count": null,
   "metadata": {
    "collapsed": true
   },
   "outputs": [],
   "source": [
    "import arcpy, os\n",
    "\n",
    "#Creates two empty pdf documents\n",
    "print(\"Creating pdf document\")\n",
    "out_dir = r'path/to/output/directory'\n",
    "output_pdf_path_fromArcMap = os.path.join(out_dir, 'output_file.pdf')\n",
    "output_pdf_fromArcMap = arcpy.mapping.PDFDocumentCreate(output_pdf_path_fromArcMap)\n",
    "\n",
    "#Grabs some variables from the mxd\n",
    "mxd = arcpy.mapping.MapDocument(r'path_to_your_arcmap_document.mxd')\n",
    "ddp = mxd.dataDrivenPages #Note that if you don't have data driven pages enabled in your map, this will throw an error\n",
    "\n",
    "#For each page in the data driven page set...\n",
    "temp_pdf_path = os.path.join(out_dir,'temp.pdf')\n",
    "bookmark_list = []\n",
    "for page_num in range(1, mxd.dataDrivenPages.pageCount + 1):\n",
    "    ddp.currentPageID = page_num #Go to page\n",
    "    page_name = ddp.pageRow.getValue(ddp.pageNameField.name) #Get the name of the page\n",
    "    print (\" Exporting \" + page_name)\n",
    "    arcpy.mapping.ExportToPDF(mxd, temp_pdf_path) #Export the pdf to a temporary location\n",
    "    output_pdf_fromArcMap.appendPages(temp_pdf_path) #Append the temporary pdf to the main pdf\n",
    "    os.remove(temp_pdf_path)\n",
    "    bookmark_list.append(page_name) #This is a list of the bookmarks we need to make\n",
    "output_pdf_fromArcMap.saveAndClose()\n",
    "print(bookmark_list)"
   ]
  },
  {
   "cell_type": "markdown",
   "metadata": {
    "collapsed": true
   },
   "source": [
    "### The next step is to use PDFMiner to make a list of text boxes in the PDF"
   ]
  },
  {
   "cell_type": "code",
   "execution_count": null,
   "metadata": {
    "collapsed": true
   },
   "outputs": [],
   "source": [
    "# What follows is a ridiculous number of imports to run only 20 lines of code, but so be it.\n",
    "from pdfminer.pdfdocument import PDFDocument\n",
    "from pdfminer.pdfpage import PDFPage\n",
    "from pdfminer.pdfparser import PDFParser\n",
    "from pdfminer.pdfinterp import PDFResourceManager, PDFPageInterpreter\n",
    "from pdfminer.converter import PDFPageAggregator\n",
    "from pdfminer.layout import LAParams, LTTextBox, LTTextLine, LTFigure\n",
    "\n",
    "# Opens the PDF file in PDFMiner\n",
    "pdf_for_pdfminer = open(output_pdf_path_fromArcMap, 'rb')\n",
    "parser = PDFParser(pdf_for_pdfminer)\n",
    "doc = PDFDocument(parser)\n",
    "my_text_boxes = []\n",
    "\n",
    "def clean_my_text(str):\n",
    "    str = str.replace(\" \",\"\")\n",
    "    str = str.replace('\\n',\"\")\n",
    "    return str\n",
    "\n",
    "# This is a function to dig through a text box in the pdf recursively\n",
    "def parse_layout(layout, pagenum):\n",
    "    \"\"\"Function to recursively parse the layout tree.\"\"\"\n",
    "    for lt_obj in layout:\n",
    "        if isinstance(lt_obj, LTTextBox) or isinstance(lt_obj, LTTextLine):\n",
    "            if \"LTTextBox\" in lt_obj.__class__.__name__:\n",
    "                my_text = lt_obj.get_text()\n",
    "                for bookmark in bookmark_list:\n",
    "                    if bookmark in my_text or clean_my_text(bookmark) in clean_my_text(my_text):\n",
    "                        out_object = [pagenum, lt_obj.bbox, bookmark]\n",
    "                        my_text_boxes.append(out_object)\n",
    "        elif isinstance(lt_obj, LTFigure):\n",
    "            parse_layout(lt_obj, pagenum)  # in case its a text box inside a text box inside a...\n",
    "            \n",
    "# And now, for each page in the PDF, look for text boxes that meet our criteria,\n",
    "# and get back a list of the bounding coords\n",
    "rsrcmgr = PDFResourceManager()\n",
    "laparams = LAParams()\n",
    "device = PDFPageAggregator(rsrcmgr, laparams=laparams)\n",
    "interpreter = PDFPageInterpreter(rsrcmgr, device)\n",
    "my_text_boxes = []\n",
    "bad_objects = []\n",
    "for pagenumber, page in enumerate(PDFPage.create_pages(doc)):\n",
    "    interpreter.process_page(page)\n",
    "    layout = device.get_result()\n",
    "    parse_layout(layout, pagenumber)\n",
    "for my_text_box in my_text_boxes:\n",
    "    print my_text_box\n",
    "    \n",
    "pdf_for_pdfminer.close()"
   ]
  },
  {
   "cell_type": "markdown",
   "metadata": {},
   "source": [
    "### Okay we have what need from PDFMiner. Let's move on to PyPDF.\n",
    "Now we're going to make a bookmark for every page, and then link every place we found the right sort of text box to the bookmark."
   ]
  },
  {
   "cell_type": "code",
   "execution_count": 79,
   "metadata": {
    "collapsed": true
   },
   "outputs": [],
   "source": [
    "from PyPDF2 import PdfFileWriter, PdfFileReader\n",
    "from PyPDF2.pdf import RectangleObject\n",
    "\n",
    "# Open up the pdf reader\n",
    "pdf_for_pypdf_reader = PdfFileReader(open(output_pdf_path_fromArcMap,'rb'))\n",
    "\n",
    "# Designate the output file\n",
    "writer = PdfFileWriter()\n",
    "\n",
    "# Now let's go through the final pdf and set up the bookmarks\n",
    "for i in range(0, len(bookmark_list)):\n",
    "    writer.addPage(pdf_for_pypdf_reader.getPage(i))\n",
    "    writer.addBookmark(bookmark_list[i], i)\n",
    "\n",
    "#Now we're going to go through every text box and if it has a matching bookmark, we'll make it a link\n",
    "for my_text_box in my_text_boxes:\n",
    "    page_num = my_text_box[0]\n",
    "    rect = RectangleObject(my_text_box[1]) \n",
    "    link_dest = bookmark_list.index(my_text_box[2])\n",
    "    writer.addLink(page_num, link_dest, rect)\n",
    "\n",
    "#And finally, write the results out to a new file  \n",
    "with open(os.path.join(out_dir, 'output_file_with_links.pdf'), 'wb') as output_pdf_fromPyPDF:\n",
    "    writer.write(output_pdf_fromPyPDF)"
   ]
  },
  {
   "cell_type": "code",
   "execution_count": null,
   "metadata": {
    "collapsed": true
   },
   "outputs": [],
   "source": []
  }
 ],
 "metadata": {
  "kernelspec": {
   "display_name": "Python 2",
   "language": "python",
   "name": "python2"
  },
  "language_info": {
   "codemirror_mode": {
    "name": "ipython",
    "version": 2
   },
   "file_extension": ".py",
   "mimetype": "text/x-python",
   "name": "python",
   "nbconvert_exporter": "python",
   "pygments_lexer": "ipython2",
   "version": "2.7.13"
  }
 },
 "nbformat": 4,
 "nbformat_minor": 2
}
